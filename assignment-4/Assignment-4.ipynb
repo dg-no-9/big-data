{
 "cells": [
  {
   "cell_type": "code",
   "execution_count": 76,
   "metadata": {
    "collapsed": true
   },
   "outputs": [],
   "source": [
    "import requests\n",
    "import json"
   ]
  },
  {
   "cell_type": "markdown",
   "metadata": {},
   "source": [
    "# Part 1, Github Event Streams"
   ]
  },
  {
   "cell_type": "code",
   "execution_count": 77,
   "metadata": {
    "collapsed": false
   },
   "outputs": [
    {
     "name": "stderr",
     "output_type": "stream",
     "text": [
      "/home/dg/Documents/MSU/big-data/big-data-env/local/lib/python2.7/site-packages/requests/packages/urllib3/util/ssl_.py:90: InsecurePlatformWarning: A true SSLContext object is not available. This prevents urllib3 from configuring SSL appropriately and may cause certain SSL connections to fail. For more information, see https://urllib3.readthedocs.org/en/latest/security.html#insecureplatformwarning.\n",
      "  InsecurePlatformWarning\n"
     ]
    }
   ],
   "source": [
    "r = requests.get('https://api.github.com/events', stream=True)\n",
    "with open('test_output.raw', 'wb') as fd:\n",
    "    for chunk in r.iter_content(chunk_size=10):\n",
    "        fd.write(chunk)"
   ]
  },
  {
   "cell_type": "markdown",
   "metadata": {},
   "source": [
    "# Part 2, Twitter Trends\n",
    "\n",
    "Github streaming api doesn't require oauth, but Twitter API requires it."
   ]
  },
  {
   "cell_type": "code",
   "execution_count": 78,
   "metadata": {
    "collapsed": false
   },
   "outputs": [],
   "source": [
    "from requests_oauthlib import OAuth1\n",
    "import json"
   ]
  },
  {
   "cell_type": "code",
   "execution_count": 79,
   "metadata": {
    "collapsed": false
   },
   "outputs": [],
   "source": [
    "consumer_key=\"\"\n",
    "consumer_secret=\"\"\n",
    "\n",
    "access_token=\"\"\n",
    "access_token_secret=\"\"\n",
    "auth = OAuth1(consumer_key, consumer_secret,access_token, access_token_secret)\n",
    "url = 'https://api.twitter.com/1.1/trends/place.json'"
   ]
  },
  {
   "cell_type": "markdown",
   "metadata": {},
   "source": [
    "Values for consumer key/secret and token/secret are set as per twitter application and twitter user who is requesting the stream."
   ]
  },
  {
   "cell_type": "code",
   "execution_count": 80,
   "metadata": {
    "collapsed": true
   },
   "outputs": [],
   "source": [
    "def get_trends(id):\n",
    "    payload={'id':id}\n",
    "    r = requests.get(url, params=payload, auth=auth, stream=True)\n",
    "    trends = []\n",
    "    for line in r.iter_lines():\n",
    "        if line: # filter out keep-alive new lines\n",
    "            trend_json = json.loads(line)\n",
    "            for trend in trend_json[0]['trends']:\n",
    "                trends.append(trend['name'])\n",
    "    return trends"
   ]
  },
  {
   "cell_type": "markdown",
   "metadata": {},
   "source": [
    "Trend Id for Worldwide trends is: 1, for United States trend is: 23424977 <br />\n",
    "The function <b> get_trends(id) </b> returns current trends specified by id parameter."
   ]
  },
  {
   "cell_type": "code",
   "execution_count": 81,
   "metadata": {
    "collapsed": false
   },
   "outputs": [
    {
     "name": "stdout",
     "output_type": "stream",
     "text": [
      "Worldwide trends\n",
      "#FreedomForKesha\n",
      "#NoEstoyPara\n",
      "#SameOldLoveMusicVideoToday\n",
      "#OTWOLFantasy\n",
      "#DiaMundialSinAuto\n",
      "R$4,02\n",
      "Mステ\n",
      "The Big Short\n",
      "#FelizMartes\n",
      "#ENEMchegandoEeu\n"
     ]
    },
    {
     "name": "stderr",
     "output_type": "stream",
     "text": [
      "/home/dg/Documents/MSU/big-data/big-data-env/local/lib/python2.7/site-packages/requests/packages/urllib3/util/ssl_.py:90: InsecurePlatformWarning: A true SSLContext object is not available. This prevents urllib3 from configuring SSL appropriately and may cause certain SSL connections to fail. For more information, see https://urllib3.readthedocs.org/en/latest/security.html#insecureplatformwarning.\n",
      "  InsecurePlatformWarning\n"
     ]
    }
   ],
   "source": [
    "print 'Worldwide trends'\n",
    "for t in get_trends('1'):\n",
    "    print t"
   ]
  },
  {
   "cell_type": "code",
   "execution_count": 82,
   "metadata": {
    "collapsed": false
   },
   "outputs": [
    {
     "name": "stdout",
     "output_type": "stream",
     "text": [
      "United States trends\n",
      "#PopeInDC\n",
      "#FreedomForKesha\n",
      "#ExtremeWaysToCutSpending\n",
      "#HowIBlowMyMillions\n",
      "#WorldRhinoDay\n",
      "The Big Short\n",
      "Yom Kippur\n",
      "Preston Parker\n",
      "Petraeus\n",
      "Emancipation Proclamation\n"
     ]
    },
    {
     "name": "stderr",
     "output_type": "stream",
     "text": [
      "/home/dg/Documents/MSU/big-data/big-data-env/local/lib/python2.7/site-packages/requests/packages/urllib3/util/ssl_.py:90: InsecurePlatformWarning: A true SSLContext object is not available. This prevents urllib3 from configuring SSL appropriately and may cause certain SSL connections to fail. For more information, see https://urllib3.readthedocs.org/en/latest/security.html#insecureplatformwarning.\n",
      "  InsecurePlatformWarning\n"
     ]
    }
   ],
   "source": [
    "print 'United States trends'\n",
    "for t in get_trends('23424977'):\n",
    "    print t"
   ]
  },
  {
   "cell_type": "markdown",
   "metadata": {},
   "source": [
    "# Part 3, Facebook Graph API\n",
    "For accessing facebook data, facebook gives access_token, which is supplied as a parameter in requests api."
   ]
  },
  {
   "cell_type": "code",
   "execution_count": 83,
   "metadata": {
    "collapsed": true
   },
   "outputs": [],
   "source": [
    "fb_access_token=\"\"\n",
    "base_url = 'https://graph.facebook.com/me'"
   ]
  },
  {
   "cell_type": "code",
   "execution_count": 84,
   "metadata": {
    "collapsed": false
   },
   "outputs": [
    {
     "name": "stderr",
     "output_type": "stream",
     "text": [
      "/home/dg/Documents/MSU/big-data/big-data-env/local/lib/python2.7/site-packages/requests/packages/urllib3/util/ssl_.py:90: InsecurePlatformWarning: A true SSLContext object is not available. This prevents urllib3 from configuring SSL appropriately and may cause certain SSL connections to fail. For more information, see https://urllib3.readthedocs.org/en/latest/security.html#insecureplatformwarning.\n",
      "  InsecurePlatformWarning\n"
     ]
    }
   ],
   "source": [
    "fields='posts'\n",
    "params = {'fields':'posts.limit(5)', 'access_token':fb_access_token}\n",
    "fbposts = requests.get(base_url, params=params)"
   ]
  },
  {
   "cell_type": "markdown",
   "metadata": {},
   "source": [
    "Lets print last 5 posts by the user. The API returned 3 posts and a link to next page inside 'paging' key. <br> The posts may contain message or story depending upon the type of the posts. Three posts and link to next page are printed below."
   ]
  },
  {
   "cell_type": "code",
   "execution_count": 85,
   "metadata": {
    "collapsed": false
   },
   "outputs": [
    {
     "name": "stdout",
     "output_type": "stream",
     "text": [
      "Created At: 2015-09-22T12:27:37+0000, Id: 10203948633299091_10207505301333569,  Message: :v :v\n",
      "Created At: 2015-09-10T03:05:32+0000, Id: 10203948633299091_10207416235386976,  Message: This is fun show. :D #BBKing #Blues\n",
      "Created At: 2015-09-10T02:21:05+0000, Id: 10203948633299091_10207416047502279,  Story: Deepak Gautam shared Routine of Nepal banda's post.\n",
      "Next Page:\n",
      "https://graph.facebook.com/v2.0/10203948633299091/posts?limit=5&access_token=CAACEdEose0cBAOZCAItWEI3JU6025Wg9HC3tYFYhAZBZBYZAZBudjpz0LySB5Q4LzNWZAUFRiSQtOZBYZB5UVOFusx4v3OaWNnIgPQIIq3SK5oMZCh7K3VcPKxN5iR2J6yVWMfFO7iwZBLNcut0TBaR0n9TxAgSZB3yTE0M0vfGC6MfFA51rKfdCveuRvWeu6DX0iUZCj9gsVPXA6AVDRFu3kKBy&until=1441851665&__paging_token=enc_AdDa7GTZAKHlUWkGCezHlHS0LqYDBxsucm8lk1hzbSpGkZAOPiaweoKGf4B3Y0ehhwHb5FOzCtaOZBlZBhDoHYpbbSme\n"
     ]
    }
   ],
   "source": [
    "for line in fbposts.iter_lines():\n",
    "    lines = json.loads(line)['posts']\n",
    "    for post in lines['data']:\n",
    "        print'Created At: %s, Id: %s, ' % (post['created_time'], post['id']),\n",
    "        if post.has_key('message'):\n",
    "            print 'Message: %s' % post['message']\n",
    "        else: \n",
    "            print'Story: %s' % post['story']\n",
    "    print 'Next Page:'\n",
    "    print lines['paging']['next']"
   ]
  }
 ],
 "metadata": {
  "kernelspec": {
   "display_name": "Python 2",
   "language": "python",
   "name": "python2"
  },
  "language_info": {
   "codemirror_mode": {
    "name": "ipython",
    "version": 2
   },
   "file_extension": ".py",
   "mimetype": "text/x-python",
   "name": "python",
   "nbconvert_exporter": "python",
   "pygments_lexer": "ipython2",
   "version": "2.7.6"
  }
 },
 "nbformat": 4,
 "nbformat_minor": 0
}
