{
 "metadata": {
  "name": ""
 },
 "nbformat": 3,
 "nbformat_minor": 0,
 "worksheets": [
  {
   "cells": [
    {
     "cell_type": "code",
     "collapsed": false,
     "input": [
      "from random import shuffle\n",
      "no_team=7\n",
      "with open('../data/students.tsv','rb') as stud_file:\n",
      "    li=[entry.replace('\\t', ' ').replace('\\n','') for entry in stud_file]\n",
      "li=li[1:] #ignore first line of the file"
     ],
     "language": "python",
     "metadata": {},
     "outputs": [],
     "prompt_number": 62
    },
    {
     "cell_type": "code",
     "collapsed": false,
     "input": [
      "shuffle(li)\n",
      "team_size =  len(li)/no_team if len(li)%no_team == 0 else (len(li)/no_team)+1\n",
      "teams=[li[i:i+team_size] for i in range(0,no_team*team_size,team_size)]"
     ],
     "language": "python",
     "metadata": {},
     "outputs": [],
     "prompt_number": 63
    },
    {
     "cell_type": "code",
     "collapsed": false,
     "input": [
      "print \"\\n\".join(str(team) for team in teams)"
     ],
     "language": "python",
     "metadata": {},
     "outputs": [
      {
       "output_type": "stream",
       "stream": "stdout",
       "text": [
        "['Aryal, Ayush Raj -3475667787048397298', 'Miller, Cody Alan 5943842258357201001', 'Andrade Ribeiro, Lucas  -8244047909817769125']\n",
        "['Carter, William Wheeler 3802692595415542378', 'Nichols, Michael S 3523903377713238225', 'Borse, Manish Rajendra -2033438892705105942']\n",
        "['Sutar, Siddhant A. -5234176481919168936', 'Gupta, Shreya  -1891500691712097823', 'Karri, Veera Venkata S. R. 4334084250745981310']\n",
        "['Childers, Jacob Dalton -886484131408840173', 'Sween, Daniel John 2648846170173518257', 'Matin, Neil  7990469763352512495']\n",
        "['Clark, Taylor Forrest 907296488986151916', 'Rosetti, Nicholas Clark -8456191309941038534', 'Adhikari, Naresh -6456136309672038257']\n",
        "['Blaylock, Kendall James -1263821221294490948', 'Bushra, Naila  8990474763354512487', 'Gibson, Sandra Lee 8075360464225835586']\n",
        "['Tomar, Abhimanyu  3187674564603368163', 'Gautam, Deepak  -6012266244709306987']\n"
       ]
      }
     ],
     "prompt_number": 64
    },
    {
     "cell_type": "code",
     "collapsed": false,
     "input": [],
     "language": "python",
     "metadata": {},
     "outputs": []
    }
   ],
   "metadata": {}
  }
 ]
}