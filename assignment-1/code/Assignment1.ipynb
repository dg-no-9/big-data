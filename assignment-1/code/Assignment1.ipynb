{
 "metadata": {
  "name": ""
 },
 "nbformat": 3,
 "nbformat_minor": 0,
 "worksheets": [
  {
   "cells": [
    {
     "cell_type": "code",
     "collapsed": false,
     "input": [
      "from random import shuffle\n",
      "no_team=7\n",
      "with open('../data/students.tsv','rb') as stud_file:\n",
      "    li=[entry.replace('\\t', ' ').replace('\\n','') for entry in stud_file]\n",
      "li=li[1:] #ignore first line of the file"
     ],
     "language": "python",
     "metadata": {},
     "outputs": [],
     "prompt_number": 1
    },
    {
     "cell_type": "code",
     "collapsed": false,
     "input": [
      "shuffle(li)\n",
      "team_size =  len(li)/no_team if len(li)%no_team == 0 else (len(li)/no_team)+1\n",
      "teams=[li[i:i+team_size] for i in range(0,no_team*team_size,team_size)]"
     ],
     "language": "python",
     "metadata": {},
     "outputs": [],
     "prompt_number": 2
    },
    {
     "cell_type": "code",
     "collapsed": false,
     "input": [
      "print teams"
     ],
     "language": "python",
     "metadata": {},
     "outputs": [
      {
       "output_type": "stream",
       "stream": "stdout",
       "text": [
        "[['Bushra, Naila  8990474763354512487', 'Rosetti, Nicholas Clark -8456191309941038534', 'Adhikari, Naresh -6456136309672038257'], ['Nichols, Michael S 3523903377713238225', 'Gupta, Shreya  -1891500691712097823', 'Matin, Neil  7990469763352512495'], ['Aryal, Ayush Raj -3475667787048397298', 'Karri, Veera Venkata S. R. 4334084250745981310', 'Childers, Jacob Dalton -886484131408840173'], ['Gibson, Sandra Lee 8075360464225835586', 'Sween, Daniel John 2648846170173518257', 'Borse, Manish Rajendra -2033438892705105942'], ['Sutar, Siddhant A. -5234176481919168936', 'Clark, Taylor Forrest 907296488986151916', 'Tomar, Abhimanyu  3187674564603368163'], ['Miller, Cody Alan 5943842258357201001', 'Blaylock, Kendall James -1263821221294490948', 'Carter, William Wheeler 3802692595415542378'], ['Gautam, Deepak  -6012266244709306987', 'Andrade Ribeiro, Lucas  -8244047909817769125']]\n"
       ]
      }
     ],
     "prompt_number": 3
    }
   ],
   "metadata": {}
  }
 ]
}
