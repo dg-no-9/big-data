{
 "metadata": {
  "name": ""
 },
 "nbformat": 3,
 "nbformat_minor": 0,
 "worksheets": [
  {
   "cells": [
    {
     "cell_type": "code",
     "collapsed": false,
     "input": [
      "from random import shuffle\n",
      "no_team=6\n",
      "with open('../data/students.tsv','rb') as stud_file:\n",
      "    li=[entry.replace('\\t', ' ').replace('\\n','') for entry in stud_file]\n",
      "li=li[1:] #ignore first line of the file"
     ],
     "language": "python",
     "metadata": {},
     "outputs": [],
     "prompt_number": 141
    },
    {
     "cell_type": "code",
     "collapsed": false,
     "input": [
      "shuffle(li)\n",
      "team_size =  len(li)/no_team\n",
      "teams=[li[i:i+team_size] for i in range(0,team_size*no_team,team_size)]\n",
      "for i in range(team_size*no_team, len(li)):\n",
      "    teams[i-team_size*no_team].append(li[i])"
     ],
     "language": "python",
     "metadata": {},
     "outputs": [],
     "prompt_number": 142
    },
    {
     "cell_type": "code",
     "collapsed": false,
     "input": [
      "print \"\\n\".join(str(team) for team in teams)"
     ],
     "language": "python",
     "metadata": {},
     "outputs": [
      {
       "output_type": "stream",
       "stream": "stdout",
       "text": [
        "['Miller, Cody Alan 5943842258357201001', 'Borse, Manish Rajendra -2033438892705105942', 'Sutar, Siddhant A. -5234176481919168936', 'Clark, Taylor Forrest 907296488986151916']\n",
        "['Karri, Veera Venkata S. R. 4334084250745981310', 'Andrade Ribeiro, Lucas  -8244047909817769125', 'Nichols, Michael S 3523903377713238225', 'Sween, Daniel John 2648846170173518257']\n",
        "['Gibson, Sandra Lee 8075360464225835586', 'Tomar, Abhimanyu  3187674564603368163', 'Bushra, Naila  8990474763354512487']\n",
        "['Carter, William Wheeler 3802692595415542378', 'Blaylock, Kendall James -1263821221294490948', 'Gupta, Shreya  -1891500691712097823']\n",
        "['Matin, Neil  7990469763352512495', 'Rosetti, Nicholas Clark -8456191309941038534', 'Adhikari, Naresh -6456136309672038257']\n",
        "['Aryal, Ayush Raj -3475667787048397298', 'Gautam, Deepak  -6012266244709306987', 'Childers, Jacob Dalton -886484131408840173']\n"
       ]
      }
     ],
     "prompt_number": 143
    },
    {
     "cell_type": "code",
     "collapsed": false,
     "input": [],
     "language": "python",
     "metadata": {},
     "outputs": []
    }
   ],
   "metadata": {}
  }
 ]
}