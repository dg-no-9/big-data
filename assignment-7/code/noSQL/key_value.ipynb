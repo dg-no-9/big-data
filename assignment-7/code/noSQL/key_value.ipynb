{
 "cells": [
  {
   "cell_type": "markdown",
   "metadata": {},
   "source": [
    "<b> Name : Deepak Gautam <br />\n",
    "NetID: dg1308 </b>"
   ]
  },
  {
   "cell_type": "markdown",
   "metadata": {},
   "source": [
    "# RIAK KV\n",
    "\n",
    "http://basho.com/products/riak-kv/\n",
    "\n",
    "Riak KV is a distributed NoSQL database with a key/value design and advanced local and multi-cluster replication that guarantees reads and writes even in the event of hardware failures or network partitions. \n",
    "\n",
    "Five minuite install: http://docs.basho.com/riak/latest/quickstart/\n",
    "\n",
    "\n",
    "Download Riak:\n",
    "http://docs.basho.com/riak/latest/downloads/\n",
    "\n",
    "For Ubuntu 12:04:\n",
    "```\n",
    "sudo apt-get update\n",
    "sudo apt-get install riak\n",
    "sudo apt-get install libpam0g-dev\n",
    "sudo apt-get install libssl0.9.8\n",
    "wget http://s3.amazonaws.com/downloads.basho.com/riak/2.1/2.1.1/ubuntu/precise/riak_2.1.1-1_amd64.deb\n",
    "```\n",
    "Install:\n",
    "\n",
    "`sudo dpkg -i riak_2.1.1-1_amd64.deb`\n",
    "\n",
    "Start Riak:\n",
    "\n",
    "`sudo riak start`\n",
    "\n",
    "Install Riak Python Client:\n",
    "\n",
    "`sudo pip install riak`"
   ]
  },
  {
   "cell_type": "code",
   "execution_count": 9,
   "metadata": {
    "collapsed": false
   },
   "outputs": [],
   "source": [
    "import riak"
   ]
  },
  {
   "cell_type": "markdown",
   "metadata": {},
   "source": [
    "### Connecting to Riak"
   ]
  },
  {
   "cell_type": "markdown",
   "metadata": {},
   "source": [
    "```\n",
    "myClient = riak.RiakClient(pb_port=8087, protocol='pbc')\n",
    "\n",
    "# Because the Python client uses the Protocol Buffers interface by\n",
    "# default, the following will work the same:\n",
    "myClient = riak.RiakClient(pb_port=8087)\n",
    "```\n",
    "\n"
   ]
  },
  {
   "cell_type": "code",
   "execution_count": 10,
   "metadata": {
    "collapsed": false
   },
   "outputs": [],
   "source": [
    "myClient = riak.RiakClient(pb_port=8087, protocol='pbc')"
   ]
  },
  {
   "cell_type": "markdown",
   "metadata": {},
   "source": [
    "### Creating Objects In Riak\n",
    "\n",
    "First, let’s create a few objects and a bucket to keep them in."
   ]
  },
  {
   "cell_type": "code",
   "execution_count": 11,
   "metadata": {
    "collapsed": false
   },
   "outputs": [
    {
     "data": {
      "text/plain": [
       "<riak.riak_object.RiakObject at 0x7f1e8e6c36d0>"
      ]
     },
     "execution_count": 11,
     "metadata": {},
     "output_type": "execute_result"
    }
   ],
   "source": [
    "myBucket = myClient.bucket('test')\n",
    "\n",
    "val1 = 1\n",
    "key1 = myBucket.new('one', data=val1)\n",
    "key1.store()"
   ]
  },
  {
   "cell_type": "code",
   "execution_count": 12,
   "metadata": {
    "collapsed": false
   },
   "outputs": [
    {
     "data": {
      "text/plain": [
       "<riak.riak_object.RiakObject at 0x7f1e8e6c3390>"
      ]
     },
     "execution_count": 12,
     "metadata": {},
     "output_type": "execute_result"
    }
   ],
   "source": [
    "val2 = \"two\"\n",
    "key2 = myBucket.new('two', data=val2)\n",
    "key2.store()"
   ]
  },
  {
   "cell_type": "code",
   "execution_count": 13,
   "metadata": {
    "collapsed": false
   },
   "outputs": [
    {
     "data": {
      "text/plain": [
       "<riak.riak_object.RiakObject at 0x7f1e8e6c3590>"
      ]
     },
     "execution_count": 13,
     "metadata": {},
     "output_type": "execute_result"
    }
   ],
   "source": [
    "val3 = {\"myValue\": 3}\n",
    "key3 = myBucket.new('three', data=val3)\n",
    "key3.store()"
   ]
  },
  {
   "cell_type": "markdown",
   "metadata": {},
   "source": [
    "### Reading Objects From Riak\n",
    "\n",
    "Now that we have a few objects stored, let’s retrieve them and make sure they contain the values we expect."
   ]
  },
  {
   "cell_type": "code",
   "execution_count": 14,
   "metadata": {
    "collapsed": false
   },
   "outputs": [
    {
     "name": "stdout",
     "output_type": "stream",
     "text": [
      "1\n"
     ]
    }
   ],
   "source": [
    "print myBucket.get('one').data"
   ]
  },
  {
   "cell_type": "code",
   "execution_count": 15,
   "metadata": {
    "collapsed": false
   },
   "outputs": [
    {
     "name": "stdout",
     "output_type": "stream",
     "text": [
      "1\n",
      "two\n",
      "{'myValue': 3}\n"
     ]
    }
   ],
   "source": [
    "print myBucket.get('one').data\n",
    "print myBucket.get('two').data\n",
    "print myBucket.get('three').data"
   ]
  },
  {
   "cell_type": "markdown",
   "metadata": {},
   "source": [
    "### Updating Objects In Riak\n",
    "\n",
    "While some data may be static, other forms of data may need to be updated. This is also easy to accomplish. Let’s update the value of myValue in the 3rd example to 42."
   ]
  },
  {
   "cell_type": "code",
   "execution_count": 16,
   "metadata": {
    "collapsed": false
   },
   "outputs": [
    {
     "data": {
      "text/plain": [
       "<riak.riak_object.RiakObject at 0x7f1e8e6c3ad0>"
      ]
     },
     "execution_count": 16,
     "metadata": {},
     "output_type": "execute_result"
    }
   ],
   "source": [
    "fetched3 = myBucket.get('three')\n",
    "fetched3.data[\"myValue\"] = 42\n",
    "fetched3.store()"
   ]
  },
  {
   "cell_type": "markdown",
   "metadata": {},
   "source": [
    "### Deleting Objects From Riak\n",
    "\n",
    "Nothing is complete without a delete. Fortunately, that's easy too."
   ]
  },
  {
   "cell_type": "code",
   "execution_count": 17,
   "metadata": {
    "collapsed": false
   },
   "outputs": [
    {
     "data": {
      "text/plain": [
       "<riak.riak_object.RiakObject at 0x7f1e8e7e3d50>"
      ]
     },
     "execution_count": 17,
     "metadata": {},
     "output_type": "execute_result"
    }
   ],
   "source": [
    "fetched1 = myBucket.get('one')\n",
    "fetched2 = myBucket.get('two')\n",
    "fetched3 = myBucket.get('three')\n",
    "\n",
    "fetched1.delete()\n",
    "fetched2.delete()\n",
    "fetched3.delete()"
   ]
  },
  {
   "cell_type": "code",
   "execution_count": 18,
   "metadata": {
    "collapsed": true
   },
   "outputs": [],
   "source": [
    "assert myBucket.get('one').exists == False\n",
    "assert myBucket.get('two').exists == False\n",
    "assert myBucket.get('three').exists == False"
   ]
  },
  {
   "cell_type": "markdown",
   "metadata": {},
   "source": [
    "### Working With Complex Objects\n",
    "\n",
    "Since the world is a little more complicated than simple integers and bits of strings, let’s see how we can work with more complex objects. Take for example, this object that encapsulates some knowledge about a book."
   ]
  },
  {
   "cell_type": "code",
   "execution_count": 19,
   "metadata": {
    "collapsed": true
   },
   "outputs": [],
   "source": [
    "book = {\n",
    "  'isbn': \"1111979723\",\n",
    "  'title': \"Moby Dick\",\n",
    "  'author': \"Herman Melville\",\n",
    "  'body': \"Call me Ishmael. Some years ago...\",\n",
    "  'copies_owned': 3\n",
    "}"
   ]
  },
  {
   "cell_type": "code",
   "execution_count": 20,
   "metadata": {
    "collapsed": false
   },
   "outputs": [
    {
     "data": {
      "text/plain": [
       "<riak.riak_object.RiakObject at 0x7f1e8e6c1250>"
      ]
     },
     "execution_count": 20,
     "metadata": {},
     "output_type": "execute_result"
    }
   ],
   "source": [
    "booksBucket = myClient.bucket('books')\n",
    "newBook = booksBucket.new(book['isbn'], data=book)\n",
    "newBook.store()"
   ]
  },
  {
   "cell_type": "code",
   "execution_count": 21,
   "metadata": {
    "collapsed": false
   },
   "outputs": [
    {
     "name": "stdout",
     "output_type": "stream",
     "text": [
      "{\"body\": \"Call me Ishmael. Some years ago...\", \"author\": \"Herman Melville\", \"isbn\": \"1111979723\", \"copies_owned\": 3, \"title\": \"Moby Dick\"}\n"
     ]
    }
   ],
   "source": [
    "fetchedBook = booksBucket.get(book['isbn'])\n",
    "\n",
    "print(fetchedBook.encoded_data)"
   ]
  },
  {
   "cell_type": "code",
   "execution_count": 22,
   "metadata": {
    "collapsed": false
   },
   "outputs": [
    {
     "data": {
      "text/plain": [
       "<riak.riak_object.RiakObject at 0x7f1e8e6c3f90>"
      ]
     },
     "execution_count": 22,
     "metadata": {},
     "output_type": "execute_result"
    }
   ],
   "source": [
    "fetchedBook.delete()"
   ]
  },
  {
   "cell_type": "markdown",
   "metadata": {},
   "source": [
    "### Same Keys - Different Buckets\n",
    "\n",
    "The simplest way to split up data would be to use the same identity key across different buckets. A good example of this would be a Customer object, an Order object, and an OrderSummaries object that keeps rolled up info about orders such as Total, etc. Let's put some data into Riak so we can play with it."
   ]
  },
  {
   "cell_type": "code",
   "execution_count": 23,
   "metadata": {
    "collapsed": true
   },
   "outputs": [],
   "source": [
    "customer = {\n",
    "    'customer_id': 1,\n",
    "    'name': \"John Smith\",\n",
    "    'address': \"123 Main Street\",\n",
    "    'city': \"Columbus\",\n",
    "    'state': \"Ohio\",\n",
    "    'zip': \"43210\",\n",
    "    'phone': \"+1-614-555-5555\",\n",
    "    'created_date': \"2013-10-01 14:30:26\"\n",
    "}\n",
    "\n",
    "orders = [\n",
    "    {\n",
    "        'order_id': 1,\n",
    "        'customer_id': 1,\n",
    "        'salesperson_id': 9000,\n",
    "        'items': [\n",
    "            {\n",
    "                'item_id': \"TCV37GIT4NJ\",\n",
    "                'title': \"USB 3.0 Coffee Warmer\",\n",
    "                'price': 15.99\n",
    "            },\n",
    "            {\n",
    "                'item_id': \"PEG10BBF2PP\",\n",
    "                'title': \"eTablet Pro, 24GB, Grey\",\n",
    "                'price': 399.99\n",
    "            }\n",
    "        ],\n",
    "        'total': 415.98,\n",
    "        'order_date': \"2013-10-01 14:42:26\"\n",
    "    },\n",
    "    {\n",
    "        'order_id': 2,\n",
    "        'customer_id': 1,\n",
    "        'salesperson_id': 9001,\n",
    "        'items': [\n",
    "            {\n",
    "                'item_id': \"OAX19XWN0QP\",\n",
    "                'title': \"GoSlo Digital Camera\",\n",
    "                'price': 359.99\n",
    "            }\n",
    "        ],\n",
    "        'total': 359.99,\n",
    "        'order_date': \"2013-10-15 16:43:16\"\n",
    "    },\n",
    "    {\n",
    "        'order_id': 3,\n",
    "        'customer_id': 1,\n",
    "        'salesperson_id': 9000,\n",
    "        'items': [\n",
    "            {\n",
    "                'item_id': \"WYK12EPU5EZ\",\n",
    "                'title': \"Call of Battle: Goats - Gamesphere 4\",\n",
    "                'price': 69.99\n",
    "            },\n",
    "            {\n",
    "                'item_id': \"TJB84HAA8OA\",\n",
    "                'title': \"Bricko Building Blocks\",\n",
    "                'price': 4.99\n",
    "            }\n",
    "        ],\n",
    "        'total': 74.98,\n",
    "        'order_date': \"2013-11-03 17:45:28\"\n",
    "    }]\n",
    "\n",
    "order_summary = {\n",
    "    'customer_id': 1,\n",
    "    'summaries': [\n",
    "        {\n",
    "            'order_id': 1,\n",
    "            'total': 415.98,\n",
    "            'order_date': \"2013-10-01 14:42:26\"\n",
    "        },\n",
    "        {\n",
    "            'order_id': 2,\n",
    "            'total': 359.99,\n",
    "            'order_date': \"2013-10-15 16:43:16\"\n",
    "        },\n",
    "        {\n",
    "            'order_id': 3,\n",
    "            'total': 74.98,\n",
    "            'order_date': \"2013-11-03 17:45:28\"\n",
    "        }\n",
    "    ]\n",
    "}"
   ]
  },
  {
   "cell_type": "markdown",
   "metadata": {},
   "source": [
    "Create Buckets"
   ]
  },
  {
   "cell_type": "code",
   "execution_count": 24,
   "metadata": {
    "collapsed": false
   },
   "outputs": [],
   "source": [
    "client = riak.RiakClient(pb_port=8087, protocol='pbc')\n",
    "customer_bucket = client.bucket('Customers')\n",
    "order_bucket = client.bucket('Orders')\n",
    "order_summary_bucket = client.bucket('OrderSummaries')"
   ]
  },
  {
   "cell_type": "markdown",
   "metadata": {},
   "source": [
    "Store Data"
   ]
  },
  {
   "cell_type": "code",
   "execution_count": 25,
   "metadata": {
    "collapsed": false
   },
   "outputs": [
    {
     "data": {
      "text/plain": [
       "<riak.riak_object.RiakObject at 0x7f1e8e6c12d0>"
      ]
     },
     "execution_count": 25,
     "metadata": {},
     "output_type": "execute_result"
    }
   ],
   "source": [
    "cr = customer_bucket.new(str(customer['customer_id']),\n",
    "                         data=customer)\n",
    "cr.store()"
   ]
  },
  {
   "cell_type": "code",
   "execution_count": 26,
   "metadata": {
    "collapsed": false
   },
   "outputs": [
    {
     "data": {
      "text/plain": [
       "<riak.riak_object.RiakObject at 0x7f1e8e6e0090>"
      ]
     },
     "execution_count": 26,
     "metadata": {},
     "output_type": "execute_result"
    }
   ],
   "source": [
    "for order in orders:\n",
    "    order_riak = order_bucket.new(str(order['order_id']),\n",
    "                                  data=order)\n",
    "    order_riak.store()\n",
    "\n",
    "os = order_summary_bucket.new(str(order_summary['customer_id']),\n",
    "                              data=order_summary)\n",
    "os.store()"
   ]
  },
  {
   "cell_type": "markdown",
   "metadata": {},
   "source": [
    "While individual `Customer` and `Order` objects don't change much (or shouldn't change), the Order `Summaries` object will likely change often. It will do double duty by acting as an index for all customer orders, and also holding some relevant data such as the order total, etc. If we showed this information in our application often, it's only one extra request to get all the info. "
   ]
  },
  {
   "cell_type": "code",
   "execution_count": 27,
   "metadata": {
    "collapsed": false
   },
   "outputs": [
    {
     "data": {
      "text/plain": [
       "{'address': '123 Main Street',\n",
       " 'city': 'Columbus',\n",
       " 'created_date': '2013-10-01 14:30:26',\n",
       " 'customer_id': 1,\n",
       " 'name': 'John Smith',\n",
       " 'order_summary': {'customer_id': 1,\n",
       "  'summaries': [{'order_date': '2013-10-01 14:42:26',\n",
       "    'order_id': 1,\n",
       "    'total': 415.98},\n",
       "   {'order_date': '2013-10-15 16:43:16', 'order_id': 2, 'total': 359.99},\n",
       "   {'order_date': '2013-11-03 17:45:28', 'order_id': 3, 'total': 74.98}]},\n",
       " 'phone': '+1-614-555-5555',\n",
       " 'state': 'Ohio',\n",
       " 'zip': '43210'}"
      ]
     },
     "execution_count": 27,
     "metadata": {},
     "output_type": "execute_result"
    }
   ],
   "source": [
    "customer = customer_bucket.get('1').data\n",
    "customer['order_summary'] = order_summary_bucket.get('1').data\n",
    "customer"
   ]
  },
  {
   "cell_type": "code",
   "execution_count": 28,
   "metadata": {
    "collapsed": false
   },
   "outputs": [
    {
     "data": {
      "text/plain": [
       "<riak.riak_object.RiakObject at 0x7f1e8e6c1ad0>"
      ]
     },
     "execution_count": 28,
     "metadata": {},
     "output_type": "execute_result"
    }
   ],
   "source": [
    "customer_bucket.get('1').delete()"
   ]
  },
  {
   "cell_type": "code",
   "execution_count": null,
   "metadata": {
    "collapsed": true
   },
   "outputs": [],
   "source": []
  }
 ],
 "metadata": {
  "kernelspec": {
   "display_name": "Python 2",
   "language": "python",
   "name": "python2"
  },
  "language_info": {
   "codemirror_mode": {
    "name": "ipython",
    "version": 2
   },
   "file_extension": ".py",
   "mimetype": "text/x-python",
   "name": "python",
   "nbconvert_exporter": "python",
   "pygments_lexer": "ipython2",
   "version": "2.7.6"
  }
 },
 "nbformat": 4,
 "nbformat_minor": 0
}
