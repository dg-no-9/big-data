{
 "cells": [
  {
   "cell_type": "markdown",
   "metadata": {},
   "source": [
    "<b> Name : Deepak Gautam <br />\n",
    "NetID: dg1308 </b>"
   ]
  },
  {
   "cell_type": "markdown",
   "metadata": {},
   "source": [
    "## Apache Cassandra\n",
    "\n",
    "The Apache Cassandra database is the right choice when you need scalability and high availability without compromising performance. Linear scalability and proven fault-tolerance on commodity hardware or cloud infrastructure make it the perfect platform for mission-critical data. Cassandra's support for replicating across multiple datacenters is best-in-class, providing lower latency for your users and the peace of mind of knowing that you can survive regional outages.\n",
    "\n",
    "Cassandra's data model offers the convenience of column indexes with the performance of log-structured updates, strong support for denormalization and materialized views, and powerful built-in caching. \n",
    "\n",
    "http://cassandra.apache.org/\n",
    "\n",
    "Manual and Installation: http://docs.datastax.com/en/cassandra/2.2/cassandra/cassandraAbout.html\n",
    "\n",
    "For Ubuntu: http://docs.datastax.com/en/cassandra/2.0/cassandra/install/installDeb_t.html\n",
    "\n",
    "How to add repository:\n",
    "\n",
    "apt-get-add-repository\n",
    "http://askubuntu.com/questions/493460/how-to-install-add-apt-repository-using-the-terminal\n",
    "\n",
    "`sudo apt-get install python-software-properties`\n",
    "\n",
    "Install Java\n",
    "\n",
    "```\n",
    "sudo add-apt-repository ppa:webupd8team/java\n",
    "sudo apt-get update\n",
    "sudo apt-get install oracle-java8-installer\n",
    "```\n",
    "\n",
    "Install Cassandra 2.0.11\n",
    "\n",
    "```\n",
    "echo \"deb http://debian.datastax.com/community stable main\" | sudo tee -a /etc/apt/sources.list.d/cassandra.sources.list\n",
    "curl -L http://debian.datastax.com/debian/repo_key | sudo apt-key add -\n",
    "sudo apt-get update\n",
    "sudo apt-get install dsc20=2.0.11-1 cassandra=2.0.11\n",
    "```\n",
    "\n",
    "Client cassandra-driver\n",
    "\n",
    "`pip install cassandra-driver`\n",
    "\n",
    "Start Cassandara (should automatically start after install)\n",
    "\n",
    "`sudo service cassandra start`\n"
   ]
  },
  {
   "cell_type": "markdown",
   "metadata": {},
   "source": [
    "### Connecting to Cassandra\n",
    "\n",
    "Before we can start executing any queries against a Cassandra cluster we need to setup an instance of Cluster. As the name suggests, you will typically have one instance of Cluster for each Cassandra cluster you want to interact with.\n",
    "\n",
    "The simplest way to create a Cluster is like this:"
   ]
  },
  {
   "cell_type": "code",
   "execution_count": 1,
   "metadata": {
    "collapsed": true
   },
   "outputs": [],
   "source": [
    "from cassandra.cluster import Cluster\n",
    "\n",
    "cluster = Cluster(protocol_version=2)"
   ]
  },
  {
   "cell_type": "markdown",
   "metadata": {},
   "source": [
    "Create a keyspace (kind of similar to creating a database)"
   ]
  },
  {
   "cell_type": "code",
   "execution_count": null,
   "metadata": {
    "collapsed": true
   },
   "outputs": [],
   "source": [
    "session = cluster.connect()"
   ]
  },
  {
   "cell_type": "code",
   "execution_count": 14,
   "metadata": {
    "collapsed": false
   },
   "outputs": [],
   "source": [
    "session.execute(\"CREATE KEYSPACE demo WITH REPLICATION = { 'class' : 'SimpleStrategy', 'replication_factor' : 3 };\")"
   ]
  },
  {
   "cell_type": "markdown",
   "metadata": {},
   "source": [
    "The `connect()` method takes an optional keyspace argument which sets the default keyspace for all queries made through that `Session`:"
   ]
  },
  {
   "cell_type": "code",
   "execution_count": 15,
   "metadata": {
    "collapsed": true
   },
   "outputs": [],
   "source": [
    "session.set_keyspace('demo')"
   ]
  },
  {
   "cell_type": "markdown",
   "metadata": {},
   "source": [
    "### Executing Queries\n",
    "\n",
    "Now that we have a `Session` we can begin to execute queries. The simplest way to execute a query is to use `execute()`:"
   ]
  },
  {
   "cell_type": "code",
   "execution_count": 17,
   "metadata": {
    "collapsed": false
   },
   "outputs": [],
   "source": [
    "session.execute(\"CREATE TABLE users (firstname text,lastname text,age int,email text,city text, PRIMARY KEY (lastname));\")"
   ]
  },
  {
   "cell_type": "code",
   "execution_count": 20,
   "metadata": {
    "collapsed": true
   },
   "outputs": [],
   "source": [
    "session.execute(\"\"\"\n",
    "\n",
    "insert into users (lastname, age, city, email, firstname) values ('Jones', 35, 'Austin', 'bob@example.com', 'Bob')\n",
    "\n",
    "\"\"\")"
   ]
  },
  {
   "cell_type": "markdown",
   "metadata": {},
   "source": [
    "Query `users` to select values for lastname = Jones"
   ]
  },
  {
   "cell_type": "code",
   "execution_count": 21,
   "metadata": {
    "collapsed": false
   },
   "outputs": [
    {
     "name": "stdout",
     "output_type": "stream",
     "text": [
      "Bob 35\n"
     ]
    }
   ],
   "source": [
    "result = session.execute(\"select * from users where lastname='Jones' \")[0]\n",
    "print result.firstname, result.age"
   ]
  },
  {
   "cell_type": "markdown",
   "metadata": {},
   "source": [
    "Update value for Jones"
   ]
  },
  {
   "cell_type": "code",
   "execution_count": 22,
   "metadata": {
    "collapsed": true
   },
   "outputs": [],
   "source": [
    "session.execute(\"update users set age = 36 where lastname = 'Jones'\")"
   ]
  },
  {
   "cell_type": "code",
   "execution_count": 23,
   "metadata": {
    "collapsed": false
   },
   "outputs": [
    {
     "name": "stdout",
     "output_type": "stream",
     "text": [
      "Bob 36\n"
     ]
    }
   ],
   "source": [
    "result = session.execute(\"select * from users where lastname='Jones' \")[0]\n",
    "print result.firstname, result.age"
   ]
  },
  {
   "cell_type": "markdown",
   "metadata": {},
   "source": [
    "Delete values associated with Jones"
   ]
  },
  {
   "cell_type": "code",
   "execution_count": 24,
   "metadata": {
    "collapsed": true
   },
   "outputs": [],
   "source": [
    "session.execute(\"delete from users where lastname = 'Jones'\")\n",
    "result = session.execute(\"select * from users\")\n",
    "for x in result:\n",
    "    print x.age"
   ]
  },
  {
   "cell_type": "markdown",
   "metadata": {},
   "source": [
    "### ORM using Cassandra\n"
   ]
  },
  {
   "cell_type": "code",
   "execution_count": 25,
   "metadata": {
    "collapsed": false
   },
   "outputs": [],
   "source": [
    "import uuid\n",
    "from cassandra.cqlengine import columns\n",
    "from cassandra.cqlengine import connection\n",
    "from datetime import datetime\n",
    "from cassandra.cqlengine.management import sync_table\n",
    "from cassandra.cqlengine.models import Model"
   ]
  },
  {
   "cell_type": "code",
   "execution_count": 26,
   "metadata": {
    "collapsed": true
   },
   "outputs": [],
   "source": [
    "class ExampleModel(Model):\n",
    "    example_id      = columns.UUID(primary_key=True, default=uuid.uuid4)\n",
    "    example_type    = columns.Integer(index=True)\n",
    "    created_at      = columns.DateTime()\n",
    "    description     = columns.Text(required=False)\n",
    "    def __repr__(self):\n",
    "        return '%s %s' % (self.example_type, self.description)"
   ]
  },
  {
   "cell_type": "code",
   "execution_count": 27,
   "metadata": {
    "collapsed": false
   },
   "outputs": [
    {
     "name": "stderr",
     "output_type": "stream",
     "text": [
      "/home/dg/Documents/MSU/big-data/big-data-env/local/lib/python2.7/site-packages/cassandra/cqlengine/management.py:534: UserWarning: CQLENG_ALLOW_SCHEMA_MANAGEMENT environment variable is not set. Future versions of this package will require this variable to enable management functions.\n",
      "  warnings.warn(msg)\n",
      "WARNING:cassandra.cqlengine.management:CQLENG_ALLOW_SCHEMA_MANAGEMENT environment variable is not set. Future versions of this package will require this variable to enable management functions.\n"
     ]
    }
   ],
   "source": [
    "connection.setup(['127.0.0.1'], \"demo\", protocol_version=2)\n",
    "sync_table(ExampleModel)"
   ]
  },
  {
   "cell_type": "code",
   "execution_count": 28,
   "metadata": {
    "collapsed": true
   },
   "outputs": [],
   "source": [
    "em1 = ExampleModel.create(example_type=0, description=\"example1\", created_at=datetime.now())\n",
    "em2 = ExampleModel.create(example_type=0, description=\"example2\", created_at=datetime.now())\n",
    "em3 = ExampleModel.create(example_type=0, description=\"example3\", created_at=datetime.now())\n",
    "em4 = ExampleModel.create(example_type=0, description=\"example4\", created_at=datetime.now())\n",
    "em5 = ExampleModel.create(example_type=1, description=\"example5\", created_at=datetime.now())\n",
    "em6 = ExampleModel.create(example_type=1, description=\"example6\", created_at=datetime.now())\n",
    "em7 = ExampleModel.create(example_type=1, description=\"example7\", created_at=datetime.now())\n",
    "em8 = ExampleModel.create(example_type=1, description=\"example8\", created_at=datetime.now())"
   ]
  },
  {
   "cell_type": "markdown",
   "metadata": {},
   "source": [
    "#### Retrieving objects\n",
    "\n",
    "Once you’ve populated Cassandra with data, you’ll probably want to retrieve some of it. This is accomplished with QuerySet objects. \n",
    "\n",
    "http://datastax.github.io/python-driver/cqlengine/queryset.html\n",
    "\n",
    "#### Retrieving all objects\n",
    "The simplest query you can make is to return all objects from a table. This is accomplished with the .all() method, which returns a QuerySet of all objects in a table. Using the `ExampleModel`, we would get all objects like this:"
   ]
  },
  {
   "cell_type": "code",
   "execution_count": 29,
   "metadata": {
    "collapsed": false
   },
   "outputs": [],
   "source": [
    "all_objects = ExampleModel.objects.all()"
   ]
  },
  {
   "cell_type": "markdown",
   "metadata": {},
   "source": [
    "#### Iterating over the queryset"
   ]
  },
  {
   "cell_type": "code",
   "execution_count": 30,
   "metadata": {
    "collapsed": false
   },
   "outputs": [
    {
     "name": "stdout",
     "output_type": "stream",
     "text": [
      "ExampleModel <example_id=a83cc896-e78e-411c-a0cb-72a0784d2aa2>\n",
      "ExampleModel <example_id=32bbddc1-84cc-4a76-af86-eeef1c13655f>\n",
      "ExampleModel <example_id=426bf5d7-f845-40b1-802d-73d77e8f2374>\n",
      "ExampleModel <example_id=295f0a60-46ff-4040-8e4c-c6123b186335>\n",
      "ExampleModel <example_id=254241b2-9af8-4e5b-b649-e78f064da65c>\n",
      "ExampleModel <example_id=5fa8bd8d-0bec-492c-a5eb-7a8aa363ab71>\n",
      "ExampleModel <example_id=c2fb9e8b-352b-4e2a-8ec8-b4e413ff201a>\n",
      "ExampleModel <example_id=4ac6edb3-ff7e-4075-8482-1b9871d5d4f9>\n"
     ]
    }
   ],
   "source": [
    "for each in ExampleModel.objects.all():\n",
    "    print each"
   ]
  },
  {
   "cell_type": "code",
   "execution_count": 31,
   "metadata": {
    "collapsed": false
   },
   "outputs": [
    {
     "name": "stdout",
     "output_type": "stream",
     "text": [
      "1 example6\n",
      "1 example7\n",
      "0 example2\n",
      "1 example8\n",
      "0 example1\n",
      "1 example5\n",
      "0 example4\n",
      "0 example3\n"
     ]
    }
   ],
   "source": [
    "for each in all_objects:\n",
    "    print each.example_type, each.description"
   ]
  },
  {
   "cell_type": "markdown",
   "metadata": {},
   "source": [
    "#### Counting the number of objects"
   ]
  },
  {
   "cell_type": "code",
   "execution_count": null,
   "metadata": {
    "collapsed": false
   },
   "outputs": [],
   "source": [
    "ExampleModel.objects.count()"
   ]
  },
  {
   "cell_type": "markdown",
   "metadata": {},
   "source": [
    "#### Filtering the objects by value"
   ]
  },
  {
   "cell_type": "code",
   "execution_count": null,
   "metadata": {
    "collapsed": false
   },
   "outputs": [],
   "source": [
    "q = ExampleModel.objects(example_type=1)\n",
    "q.count()"
   ]
  },
  {
   "cell_type": "code",
   "execution_count": null,
   "metadata": {
    "collapsed": false
   },
   "outputs": [],
   "source": [
    "for instance in q:\n",
    "    print instance.description"
   ]
  },
  {
   "cell_type": "code",
   "execution_count": null,
   "metadata": {
    "collapsed": false
   },
   "outputs": [],
   "source": [
    "for instance in q:\n",
    "    print instance"
   ]
  },
  {
   "cell_type": "code",
   "execution_count": null,
   "metadata": {
    "collapsed": true
   },
   "outputs": [],
   "source": [
    "q2 = q.filter(example_id=em5.example_id)"
   ]
  },
  {
   "cell_type": "code",
   "execution_count": null,
   "metadata": {
    "collapsed": false
   },
   "outputs": [],
   "source": [
    "for instance in q2:\n",
    "    print instance.description"
   ]
  },
  {
   "cell_type": "markdown",
   "metadata": {},
   "source": [
    "Drop a keyspace"
   ]
  },
  {
   "cell_type": "code",
   "execution_count": null,
   "metadata": {
    "collapsed": false
   },
   "outputs": [],
   "source": [
    "from cassandra.cluster import Cluster\n",
    "cluster = Cluster(protocol_version=2)\n",
    "session = cluster.connect()\n",
    "session.execute('DROP KEYSPACE demo;')"
   ]
  },
  {
   "cell_type": "code",
   "execution_count": null,
   "metadata": {
    "collapsed": true
   },
   "outputs": [],
   "source": []
  }
 ],
 "metadata": {
  "kernelspec": {
   "display_name": "Python 2",
   "language": "python",
   "name": "python2"
  },
  "language_info": {
   "codemirror_mode": {
    "name": "ipython",
    "version": 2
   },
   "file_extension": ".py",
   "mimetype": "text/x-python",
   "name": "python",
   "nbconvert_exporter": "python",
   "pygments_lexer": "ipython2",
   "version": "2.7.6"
  }
 },
 "nbformat": 4,
 "nbformat_minor": 0
}
