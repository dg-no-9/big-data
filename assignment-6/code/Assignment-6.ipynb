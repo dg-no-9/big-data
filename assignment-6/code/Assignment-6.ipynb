{
 "cells": [
  {
   "cell_type": "markdown",
   "metadata": {},
   "source": [
    "Name: <b> Deepak Gautam </b>\n",
    "NetID: <b> dg1308 </b>"
   ]
  },
  {
   "cell_type": "code",
   "execution_count": 1,
   "metadata": {
    "collapsed": false
   },
   "outputs": [],
   "source": [
    "import json\n",
    "import ast\n",
    "import networkx as nx"
   ]
  },
  {
   "cell_type": "markdown",
   "metadata": {},
   "source": [
    "First Line of the data file ('Raw Tweet') is ignored. Then for each line, the two double quotes are replaced with single Double Quote and Stripped end of the line characters."
   ]
  },
  {
   "cell_type": "markdown",
   "metadata": {},
   "source": [
    "There is a starting and ending single quote character for each lines, so those characters are removed before applying json.loads()."
   ]
  },
  {
   "cell_type": "code",
   "execution_count": 2,
   "metadata": {
    "collapsed": false
   },
   "outputs": [],
   "source": [
    "lines = [line.rstrip('\\n\\r').replace('\"\"','\"') for line in open('../data/big_data.csv')][1:]"
   ]
  },
  {
   "cell_type": "markdown",
   "metadata": {},
   "source": [
    "This function updates nodes and their weights if nodes already exist, else new node is added with weight 1."
   ]
  },
  {
   "cell_type": "code",
   "execution_count": 3,
   "metadata": {
    "collapsed": false
   },
   "outputs": [],
   "source": [
    "def update_nodes(node):\n",
    "    if graph.has_node(node):\n",
    "            graph.node[node]['weight'] = graph.node[node]['weight'] + 1\n",
    "    else:\n",
    "        graph.add_node(node)\n",
    "        graph.node[node]['weight'] = 1"
   ]
  },
  {
   "cell_type": "markdown",
   "metadata": {},
   "source": [
    "This function updates edges and their weights if edges already exist, else new edge is added with weight 1."
   ]
  },
  {
   "cell_type": "code",
   "execution_count": 4,
   "metadata": {
    "collapsed": true
   },
   "outputs": [],
   "source": [
    "def update_edges(src, dst):\n",
    "    if graph.has_edge(src,dst):\n",
    "        graph.edge[src][dst]['weight'] = graph[src][dst]['weight'] + 1\n",
    "    else:\n",
    "        graph.add_edge(src, dst)\n",
    "        graph.edge[src][dst]['weight'] = 1"
   ]
  },
  {
   "cell_type": "markdown",
   "metadata": {},
   "source": [
    "For Each User, user node is created and weight is assigned. The mentions are stored in set to avoid duplicate mentions in a single Tweet. For each mention by user, an edge is created between user and mention. By checking current weight on nodes and edges, weight is updated."
   ]
  },
  {
   "cell_type": "code",
   "execution_count": 5,
   "metadata": {
    "collapsed": false
   },
   "outputs": [],
   "source": [
    "graph = nx.Graph()\n",
    "for line in lines:\n",
    "    tweet = json.loads(line[1:-1]) #Loads by removing first and last quote character.\n",
    "    username = tweet['actor']['preferredUsername']\n",
    "    mentions=set()\n",
    "    mentions.update([mention['screen_name'] for mention in tweet['twitter_entities']['user_mentions']])\n",
    "    update_nodes(username)\n",
    "    for mention in mentions:\n",
    "        if username==mention:\n",
    "            continue\n",
    "        update_nodes(mention)\n",
    "        update_edges(username, mention)"
   ]
  },
  {
   "cell_type": "code",
   "execution_count": 8,
   "metadata": {
    "collapsed": false
   },
   "outputs": [
    {
     "name": "stdout",
     "output_type": "stream",
     "text": [
      "Number of Nodes: 8979\n",
      "Number of Edges: 7242\n"
     ]
    }
   ],
   "source": [
    "print 'Number of Nodes: %d' %(len(graph.nodes()))\n",
    "print 'Number of Edges: %d' %(len(graph.edges()))"
   ]
  },
  {
   "cell_type": "code",
   "execution_count": 9,
   "metadata": {
    "collapsed": true
   },
   "outputs": [],
   "source": [
    "nx.write_graphml(graph,'twitter_graph.graphml')"
   ]
  },
  {
   "cell_type": "markdown",
   "metadata": {
    "collapsed": true
   },
   "source": [
    "When loaded the graphml file in gephi, It is observed that the node weight <b>range</b> is from <b>1 to 526</b>."
   ]
  },
  {
   "cell_type": "markdown",
   "metadata": {},
   "source": [
    "The heighest weighted node is with screen name: <b>BigDataTweetBot</b>, <br />\n",
    "This user BigDataTweetBot is the most popular user in tweeting about the topic."
   ]
  },
  {
   "cell_type": "markdown",
   "metadata": {
    "collapsed": true
   },
   "source": [
    "The heighest weighted edge is: <b>RamnRene1--DKjouri</b> with weight of <b>49</b>. Which means these two users are the most interacting users on the topic."
   ]
  },
  {
   "cell_type": "markdown",
   "metadata": {},
   "source": [
    "Screen Shots taken from gephi.\n",
    "<img src='../data/1shot.png'>\n",
    "<img src='../data/2shot.png'>\n",
    "<img src='../data/3shot.png'>\n",
    "<img src='../data/4shot.png'>"
   ]
  },
  {
   "cell_type": "code",
   "execution_count": null,
   "metadata": {
    "collapsed": true
   },
   "outputs": [],
   "source": []
  }
 ],
 "metadata": {
  "kernelspec": {
   "display_name": "Python 2",
   "language": "python",
   "name": "python2"
  },
  "language_info": {
   "codemirror_mode": {
    "name": "ipython",
    "version": 2
   },
   "file_extension": ".py",
   "mimetype": "text/x-python",
   "name": "python",
   "nbconvert_exporter": "python",
   "pygments_lexer": "ipython2",
   "version": "2.7.6"
  }
 },
 "nbformat": 4,
 "nbformat_minor": 0
}
