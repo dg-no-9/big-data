{
 "cells": [
  {
   "cell_type": "code",
   "execution_count": 222,
   "metadata": {
    "collapsed": true
   },
   "outputs": [],
   "source": [
    "import os\n",
    "import pandas as pd\n",
    "import numpy as np"
   ]
  },
  {
   "cell_type": "code",
   "execution_count": 223,
   "metadata": {
    "collapsed": false
   },
   "outputs": [],
   "source": [
    "def get_movie_data():\n",
    "    \n",
    "    unames = ['user_id','gender','age','occupation','zip']\n",
    "    users = pd.read_table(os.path.join('../data','users.dat'), \n",
    "                          sep='::', header=None, names=unames)\n",
    "    \n",
    "    rnames = ['user_id', 'movie_id', 'rating', 'timestamp']\n",
    "    ratings = pd.read_table(os.path.join('../data', 'ratings.dat'), \n",
    "                            sep='::', header=None, names=rnames)\n",
    "    \n",
    "    mnames = ['movie_id', 'title','genres']\n",
    "    movies = pd.read_table(os.path.join('../data', 'movies.dat'), \n",
    "                           sep='::', header=None, names=mnames)\n",
    "\n",
    "    return users, ratings, movies"
   ]
  },
  {
   "cell_type": "code",
   "execution_count": 224,
   "metadata": {
    "collapsed": false
   },
   "outputs": [
    {
     "name": "stderr",
     "output_type": "stream",
     "text": [
      "/home/dg/Documents/MSU/big-data/big-data-env/local/lib/python2.7/site-packages/pandas/io/parsers.py:648: ParserWarning: Falling back to the 'python' engine because the 'c' engine does not support regex separators; you can avoid this warning by specifying engine='python'.\n",
      "  ParserWarning)\n"
     ]
    }
   ],
   "source": [
    "users, ratings, movies = get_movie_data()"
   ]
  },
  {
   "cell_type": "code",
   "execution_count": 225,
   "metadata": {
    "collapsed": false
   },
   "outputs": [
    {
     "name": "stderr",
     "output_type": "stream",
     "text": [
      "/home/dg/Documents/MSU/big-data/big-data-env/local/lib/python2.7/site-packages/pandas/core/strings.py:380: UserWarning: In future versions of pandas, match will change to always return a bool indexer.\n",
      "  \" always return a bool indexer.\", UserWarning)\n"
     ]
    }
   ],
   "source": [
    "tmp = movies.title.str.match('(.*) \\(([0-9]+)\\)')\n",
    "movies['year'] = tmp.map(lambda x: x[1] if len(x) > 0 else None)\n",
    "movies['short_title'] = tmp.map(lambda x: x[0][:40] if len(x) > 0 else None)"
   ]
  },
  {
   "cell_type": "code",
   "execution_count": 226,
   "metadata": {
    "collapsed": false
   },
   "outputs": [],
   "source": [
    "movies_ratings = pd.merge(ratings, movies)\n",
    "merged = pd.merge(movies_ratings,users)"
   ]
  },
  {
   "cell_type": "markdown",
   "metadata": {},
   "source": [
    "# Part-1 Movie Data"
   ]
  },
  {
   "cell_type": "markdown",
   "metadata": {},
   "source": [
    "All Joined data is grouped by movie title, so that aggregation on such groups based on rating can be calculated. Aggregated groups are sorted in descending order based on average rating, and it's head is taken. Head row is the movie having highest rating."
   ]
  },
  {
   "cell_type": "code",
   "execution_count": 227,
   "metadata": {
    "collapsed": false
   },
   "outputs": [
    {
     "data": {
      "text/html": [
       "<div>\n",
       "<table border=\"1\" class=\"dataframe\">\n",
       "  <thead>\n",
       "    <tr>\n",
       "      <th></th>\n",
       "      <th colspan=\"2\" halign=\"left\">rating</th>\n",
       "    </tr>\n",
       "    <tr>\n",
       "      <th></th>\n",
       "      <th>size</th>\n",
       "      <th>mean</th>\n",
       "    </tr>\n",
       "    <tr>\n",
       "      <th>title</th>\n",
       "      <th></th>\n",
       "      <th></th>\n",
       "    </tr>\n",
       "  </thead>\n",
       "  <tbody>\n",
       "    <tr>\n",
       "      <th>Seven Samurai (The Magnificent Seven) (Shichinin no samurai) (1954)</th>\n",
       "      <td>628</td>\n",
       "      <td>4.56051</td>\n",
       "    </tr>\n",
       "  </tbody>\n",
       "</table>\n",
       "</div>"
      ],
      "text/plain": [
       "                                                   rating         \n",
       "                                                     size     mean\n",
       "title                                                             \n",
       "Seven Samurai (The Magnificent Seven) (Shichini...    628  4.56051"
      ]
     },
     "execution_count": 227,
     "metadata": {},
     "output_type": "execute_result"
    }
   ],
   "source": [
    "groups = movies_ratings.groupby('title').aggregate({'rating': [np.size,np.mean]})\n",
    "limited = groups['rating']['size'] >= 200\n",
    "groups[limited].sort([('rating', 'mean')], ascending=False).head(1)"
   ]
  },
  {
   "cell_type": "markdown",
   "metadata": {},
   "source": [
    "There is atleast 200 minimum ratings to be considered for highly rated movie. Otherwise, a movie with single rating of 5 would make it a highly rated movie.\n",
    "Hence, The most highly rated movie Movie Name: <b> Seven Samurai (The Magnificent Seven) (Shichinin no samurai) (1954)</b>"
   ]
  },
  {
   "cell_type": "markdown",
   "metadata": {},
   "source": [
    "Let's get movies which atleast 200 people have given ratings."
   ]
  },
  {
   "cell_type": "code",
   "execution_count": 228,
   "metadata": {
    "collapsed": false
   },
   "outputs": [],
   "source": [
    "top_200 = merged.groupby('movie_id').size().order(ascending=False).head(200)"
   ]
  },
  {
   "cell_type": "markdown",
   "metadata": {},
   "source": [
    "\n",
    "Now, Pivot table is created with columns based on gender value. Additional column 'avg_rating' is added for average rating for male and female in total."
   ]
  },
  {
   "cell_type": "code",
   "execution_count": 229,
   "metadata": {
    "collapsed": false
   },
   "outputs": [],
   "source": [
    "pivot = merged.pivot_table(index=['movie_id','title'],columns=['gender'],values='rating',fill_value=0)\n",
    "pivot['avg_rating'] = (pivot.F + pivot.M)/2.0"
   ]
  },
  {
   "cell_type": "code",
   "execution_count": 230,
   "metadata": {
    "collapsed": false
   },
   "outputs": [],
   "source": [
    "pivot.reset_index('movie_id', inplace=True)\n",
    "best_date_movies = pivot[pivot.movie_id.isin(top_200.index)]['avg_rating']"
   ]
  },
  {
   "cell_type": "code",
   "execution_count": 231,
   "metadata": {
    "collapsed": false
   },
   "outputs": [
    {
     "data": {
      "text/plain": [
       "title\n",
       "Shawshank Redemption, The (1994)    4.54985\n",
       "Name: avg_rating, dtype: float64"
      ]
     },
     "execution_count": 231,
     "metadata": {},
     "output_type": "execute_result"
    }
   ],
   "source": [
    "best_date_movies.order(ascending=False).head(1)"
   ]
  },
  {
   "cell_type": "markdown",
   "metadata": {},
   "source": [
    "Pivot table is filtered from top 200 (having at least 200 people's rating) movies. Thus obtained table is sorted and top most movie has highest rating by both genders. Hence, the best date-night movie is: <b> The Shawshank Redemption (1994) </b>"
   ]
  },
  {
   "cell_type": "markdown",
   "metadata": {},
   "source": [
    "# Part-2 Titanic Data"
   ]
  },
  {
   "cell_type": "code",
   "execution_count": 233,
   "metadata": {
    "collapsed": false
   },
   "outputs": [],
   "source": [
    "from IPython.core.display import HTML\n",
    "data = HTML(filename='../data/titanic.html')"
   ]
  },
  {
   "cell_type": "code",
   "execution_count": 234,
   "metadata": {
    "collapsed": false
   },
   "outputs": [],
   "source": [
    "t_file = pd.ExcelFile('../data/titanic.xls')\n",
    "t_df = t_file.parse(\"titanic\")"
   ]
  },
  {
   "cell_type": "markdown",
   "metadata": {
    "collapsed": true
   },
   "source": [
    "proportion of passengers that survived by sex."
   ]
  },
  {
   "cell_type": "code",
   "execution_count": 235,
   "metadata": {
    "collapsed": false
   },
   "outputs": [
    {
     "name": "stdout",
     "output_type": "stream",
     "text": [
      "Male Survival % 19.098458, Female Survival % 72.746781\n"
     ]
    }
   ],
   "source": [
    "total_females = t_df[t_df.sex == 'female'].shape[0]\n",
    "total_males = t_df[t_df.sex == 'male'].shape[0]\n",
    "grouped = t_df.groupby(['sex','survived'])\n",
    "survived_females = grouped.get_group(('female',1)).shape[0]\n",
    "survived_males = grouped.get_group(('male',1)).shape[0]\n",
    "print 'Male Survival %% %f, Female Survival %% %f' %(survived_males * 100/float(total_males), survived_females * 100/float(total_females))"
   ]
  },
  {
   "cell_type": "markdown",
   "metadata": {},
   "source": [
    "Females survived percentage is far more than Males' percentage."
   ]
  },
  {
   "cell_type": "markdown",
   "metadata": {},
   "source": [
    "Now, dataframe is grouped based on survival, class, and sex."
   ]
  },
  {
   "cell_type": "code",
   "execution_count": 236,
   "metadata": {
    "collapsed": false
   },
   "outputs": [],
   "source": [
    "g = t_df.groupby(['survived','pclass', 'sex'])"
   ]
  },
  {
   "cell_type": "markdown",
   "metadata": {},
   "source": [
    "Iterating through the groups. Groups are iterated by their group names."
   ]
  },
  {
   "cell_type": "code",
   "execution_count": 237,
   "metadata": {
    "collapsed": false
   },
   "outputs": [
    {
     "name": "stdout",
     "output_type": "stream",
     "text": [
      "Class 1 female Survival %: 96.527778\n",
      "Class 2 female Survival %: 88.679245\n",
      "Class 3 female Survival %: 49.074074\n",
      "Class 1 male Survival %: 34.078212\n",
      "Class 2 male Survival %: 14.619883\n",
      "Class 3 male Survival %: 15.212982\n"
     ]
    }
   ],
   "source": [
    "for gender in pd.unique(t_df.sex.ravel()):\n",
    "    for i in pd.unique(t_df.pclass.ravel()):\n",
    "        survived = g.get_group((1,i,gender)).count()[0]\n",
    "        killed = g.get_group((0,i,gender)).count()[0]\n",
    "        print 'Class %d %s Survival %%: %f' % (i, gender, survived * 100 /float(survived + killed))\n"
   ]
  },
  {
   "cell_type": "markdown",
   "metadata": {},
   "source": [
    "The t_agegroup column is added to represent different age groups given by labels. Pandas' cut function is used to create agegroups."
   ]
  },
  {
   "cell_type": "code",
   "execution_count": 238,
   "metadata": {
    "collapsed": false
   },
   "outputs": [],
   "source": [
    "labels = ['children', 'adolescents', 'adult', 'senior']\n",
    "t_df['t_agegroup'] = pd.cut(t_df.age, [0,14,20,64,150], right=False, labels=labels)\n",
    "grouped = t_df.groupby(['survived','t_agegroup', 'pclass', 'sex'])"
   ]
  },
  {
   "cell_type": "markdown",
   "metadata": {},
   "source": [
    "Iterate through each group by agegroup, gender, class and calculate the survival percentage."
   ]
  },
  {
   "cell_type": "code",
   "execution_count": 239,
   "metadata": {
    "collapsed": false
   },
   "outputs": [
    {
     "name": "stdout",
     "output_type": "stream",
     "text": [
      "The female adult(s) in Class 1, Survival %: 96.491228\n",
      "The female adult(s) in Class 2, Survival %: 87.341772\n",
      "The female adult(s) in Class 3, Survival %: 42.696629\n",
      "The male adult(s) in Class 1, Survival %: 35.114504\n",
      "The male adult(s) in Class 2, Survival %: 8.527132\n",
      "The male adult(s) in Class 3, Survival %: 16.475096\n",
      "The female children(s) in Class 1, Survival %: 0.000000\n",
      "The female children(s) in Class 2, Survival %: 100.000000\n",
      "The female children(s) in Class 3, Survival %: 48.387097\n",
      "The male children(s) in Class 1, Survival %: 100.000000\n",
      "The male children(s) in Class 2, Survival %: 100.000000\n",
      "The male children(s) in Class 3, Survival %: 32.432432\n",
      "The female senior(s) in Class 1, Survival %: 100.000000\n",
      "The male senior(s) in Class 1, Survival %: 10.000000\n",
      "The male senior(s) in Class 2, Survival %: 0.000000\n",
      "The male senior(s) in Class 3, Survival %: 0.000000\n",
      "The female adolescents(s) in Class 1, Survival %: 100.000000\n",
      "The female adolescents(s) in Class 2, Survival %: 90.000000\n",
      "The female adolescents(s) in Class 3, Survival %: 59.375000\n",
      "The male adolescents(s) in Class 1, Survival %: 20.000000\n",
      "The male adolescents(s) in Class 2, Survival %: 6.250000\n",
      "The male adolescents(s) in Class 3, Survival %: 8.333333\n"
     ]
    }
   ],
   "source": [
    "for agegroup in pd.unique(t_df.t_agegroup.ravel())[:-1]: #last group removed, as its NaN and not relevent.\n",
    "    for gender in pd.unique(t_df.sex.ravel()):\n",
    "        for class_ in pd.unique(t_df.pclass.ravel()):\n",
    "            survived_key = (1,agegroup, class_,gender)\n",
    "            if survived_key not in grouped.groups:\n",
    "                survived = 0\n",
    "            else:\n",
    "                survived = grouped.get_group(survived_key).count()[0]\n",
    "            \n",
    "            killed_key = (0,agegroup, class_,gender)\n",
    "            if killed_key not in grouped.groups:\n",
    "                killed = 0\n",
    "            else:\n",
    "                killed = grouped.get_group(killed_key).count()[0]\n",
    "            if killed==survived==0:\n",
    "                continue\n",
    "            else:\n",
    "                percentage = survived * 100 /float(survived + killed)\n",
    "            print 'The %s %s(s) in Class %d, Survival %%: %f' % ( gender,agegroup,class_, percentage)"
   ]
  },
  {
   "cell_type": "markdown",
   "metadata": {},
   "source": [
    "In overall, Females have greater survival percentage compared to males in all age groups and/or classes. Children have more percentage of survival compared to males(in general), but not as much as females. This shows <b> womens and children were taken care at first.</b>"
   ]
  },
  {
   "cell_type": "code",
   "execution_count": null,
   "metadata": {
    "collapsed": true
   },
   "outputs": [],
   "source": []
  }
 ],
 "metadata": {
  "kernelspec": {
   "display_name": "Python 2",
   "language": "python",
   "name": "python2"
  },
  "language_info": {
   "codemirror_mode": {
    "name": "ipython",
    "version": 2
   },
   "file_extension": ".py",
   "mimetype": "text/x-python",
   "name": "python",
   "nbconvert_exporter": "python",
   "pygments_lexer": "ipython2",
   "version": "2.7.6"
  }
 },
 "nbformat": 4,
 "nbformat_minor": 0
}
